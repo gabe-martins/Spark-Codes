{
 "cells": [
  {
   "cell_type": "code",
   "execution_count": null,
   "metadata": {},
   "outputs": [],
   "source": [
    "#teste de pesistência\n",
    "from pyspark.sql import SparkSession\n",
    "spark.sql(\"use desp\").show()"
   ]
  },
  {
   "cell_type": "code",
   "execution_count": null,
   "metadata": {},
   "outputs": [],
   "source": [
    "#mostrar que a tabela ainda existe\n",
    "spark.sql(\"select * from despachantes\").show()\n",
    "despachantes.show()"
   ]
  },
  {
   "cell_type": "code",
   "execution_count": null,
   "metadata": {},
   "outputs": [],
   "source": [
    "#o resultado de uma consulta sem um show gera um dataframe\n",
    "despachantes = spark.sql(\"select * from despachantes\")\n",
    "despachantes.show()"
   ]
  },
  {
   "cell_type": "code",
   "execution_count": null,
   "metadata": {},
   "outputs": [],
   "source": [
    "#criar tabela não gerenciada\n",
    "#salvamos novamente no formato parquet, em outro diretorio\n",
    "despachantes.write.format(\"parquet\").save(\"/home/gabe/desparquet\") \n",
    "\n",
    "#informar o caminho \n",
    "despachantes.write.option(\"path\", \"/home/gabe/desparquet\").saveAsTable(\"Despachantes_ng\")"
   ]
  },
  {
   "cell_type": "code",
   "execution_count": null,
   "metadata": {},
   "outputs": [],
   "source": [
    "#como saber se uma tabela é gerenciada ou não?\n",
    "#podemos observar que despachantes não mostra o caminho\n",
    "spark.sql(\"show create table Despachantes\").show(truncate=False)\n",
    "\n",
    "#despachantes ng mostra, indicando que é não gerenciada\n",
    "spark.sql(\"show create table Despachantes_ng\").show(truncate=False)"
   ]
  },
  {
   "cell_type": "code",
   "execution_count": null,
   "metadata": {},
   "outputs": [],
   "source": [
    "#outra forma:\n",
    "spark.catalog.listTables()"
   ]
  },
  {
   "cell_type": "markdown",
   "metadata": {},
   "source": [
    "# Views"
   ]
  },
  {
   "cell_type": "code",
   "execution_count": null,
   "metadata": {},
   "outputs": [],
   "source": [
    "despachantes.createOrReplaceTempView(\"Despachantes\")\n",
    "despachantes.createOrReplaceGlobalTempView(\"Despachantes\")"
   ]
  }
 ],
 "metadata": {
  "kernelspec": {
   "display_name": "Python 3",
   "language": "python",
   "name": "python3"
  },
  "language_info": {
   "name": "python",
   "version": "3.12.2"
  }
 },
 "nbformat": 4,
 "nbformat_minor": 2
}
