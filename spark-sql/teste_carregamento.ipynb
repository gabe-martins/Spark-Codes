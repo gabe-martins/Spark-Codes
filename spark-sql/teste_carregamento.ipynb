{
 "cells": [
  {
   "cell_type": "code",
   "execution_count": null,
   "metadata": {},
   "outputs": [],
   "source": [
    "from pyspark.sql import SparkSession"
   ]
  },
  {
   "cell_type": "code",
   "execution_count": null,
   "metadata": {},
   "outputs": [],
   "source": [
    "clientes = spark.read.load(\"/home/fernando/download/Atividades/Clientes.parquet\")\n",
    "vendas = spark.read.load(\"/home/fernando/download/Atividades/Vendas.parquet\")\n",
    "itensvendas = spark.read.load(\"/home/fernando/download/Atividades/ItensVendas.parquet\")\n",
    "produtos = spark.read.load(\"/home/fernando/download/Atividades/Produtos.parquet\")\n",
    "vendedores = spark.read.load(\"/home/fernando/download/Atividades/Vendedores.parquet\")\n"
   ]
  },
  {
   "cell_type": "code",
   "execution_count": null,
   "metadata": {},
   "outputs": [],
   "source": [
    "spark.sql(\"create database VendasVarejo\")"
   ]
  },
  {
   "cell_type": "code",
   "execution_count": null,
   "metadata": {},
   "outputs": [],
   "source": [
    "spark.sql(\"use VendasVarejo\")"
   ]
  },
  {
   "cell_type": "code",
   "execution_count": null,
   "metadata": {},
   "outputs": [],
   "source": [
    "clientes.write.saveAsTable(\"clientes\")\n",
    "vendas.write.saveAsTable(\"vendas\")\n",
    "itensvendas.write.saveAsTable(\"itensvendas\")\n",
    "produtos.write.saveAsTable(\"produtos\")\n",
    "vendedores.write.saveAsTable(\"vendedores\")"
   ]
  },
  {
   "cell_type": "markdown",
   "metadata": {},
   "source": [
    "# SQL"
   ]
  },
  {
   "cell_type": "markdown",
   "metadata": {},
   "source": [
    "%sql\n",
    "spark-sql;"
   ]
  },
  {
   "cell_type": "code",
   "execution_count": null,
   "metadata": {},
   "outputs": [],
   "source": [
    "%sql\n",
    "use vendasvarejo;"
   ]
  },
  {
   "cell_type": "code",
   "execution_count": null,
   "metadata": {},
   "outputs": [],
   "source": [
    "%sql\n",
    "select \n",
    "  c.cliente, \n",
    "  v.Data, \n",
    "  p.Produto, \n",
    "  vd.Vendedor, \n",
    "  iv.ValorTotal\n",
    "from itensvendas iv\n",
    "inner join produtos p on (p.Produtoid = iv.Produtoid)\n",
    "inner join vendas v on (v.VendasID = iv.VendasID)\n",
    "inner join vendedores vd on (vd.vendedorID = v.vendedorID)\n",
    "inner join clientes c on (c.clienteid = v.clienteid);"
   ]
  }
 ],
 "metadata": {
  "kernelspec": {
   "display_name": "Python 3",
   "language": "python",
   "name": "python3"
  },
  "language_info": {
   "name": "python",
   "version": "3.12.2"
  }
 },
 "nbformat": 4,
 "nbformat_minor": 2
}
